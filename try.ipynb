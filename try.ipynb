{
 "cells": [
  {
   "cell_type": "code",
   "execution_count": 1,
   "metadata": {},
   "outputs": [],
   "source": [
    "import ml\n",
    "from ml import Base"
   ]
  },
  {
   "cell_type": "code",
   "execution_count": 338,
   "metadata": {},
   "outputs": [],
   "source": [
    "from typing import Any\n",
    "\n",
    "\n",
    "class ML(ml.Base):\n",
    "    def __init__(self):\n",
    "        super().__init__()\n",
    "        self.layer1 = super().Linear(3, 4, bias = True)\n",
    "        self.layer2 = super().Linear(4, 4, bias = True)\n",
    "        self.layer3 = super().Linear(4, 1, bias = True)\n",
    "\n",
    "    def forward(self, x):\n",
    "        x = self.layer1(x)\n",
    "        x = self.layer2(x)\n",
    "        x = self.layer3(x)\n",
    "        return x"
   ]
  },
  {
   "cell_type": "code",
   "execution_count": 339,
   "metadata": {},
   "outputs": [
    {
     "name": "stdout",
     "output_type": "stream",
     "text": [
      "[Neuron[weights = [tensor(0.5057231496067542), tensor(0.1216620088947794), tensor(0.37413267254290294)]], Neuron[weights = [tensor(0.32274828514938425), tensor(0.8242014036232774), tensor(0.8310820104059486)]], Neuron[weights = [tensor(0.18169951137056684), tensor(0.39658079312356365), tensor(0.8737790380516185)]], Neuron[weights = [tensor(0.3780109672714609), tensor(0.547539809007406), tensor(0.0764630992246228)]]]\n",
      "[Neuron[weights = [tensor(0.18073417133545522), tensor(0.46411297286209063), tensor(0.15358891131025876), tensor(0.34202137547631695)]], Neuron[weights = [tensor(0.2042789071156733), tensor(0.39125433082371397), tensor(0.8837624882834365), tensor(0.6601226864038646)]], Neuron[weights = [tensor(0.8456079386695624), tensor(0.4704264165711104), tensor(0.03540277139736492), tensor(0.3120261318332975)]], Neuron[weights = [tensor(0.8612030616056859), tensor(0.127827189279494), tensor(0.8479855200291866), tensor(0.4916699578716818)]]]\n",
      "[Neuron[weights = [tensor(0.9463882621589014), tensor(0.0515820376295707), tensor(0.8081807918183777), tensor(0.7711886457390634)]]]\n"
     ]
    }
   ],
   "source": [
    "nn = ML()"
   ]
  },
  {
   "cell_type": "code",
   "execution_count": 4,
   "metadata": {},
   "outputs": [
    {
     "data": {
      "text/plain": [
       "[tensor(0.7778737336548615),\n",
       " tensor(0.43618495382987177),\n",
       " tensor(0.7291986161810051),\n",
       " tensor(0.8325688981468586),\n",
       " tensor(0.33798180970577896),\n",
       " tensor(0.252110256648856),\n",
       " tensor(0.3224846061237012),\n",
       " tensor(0.4680669064084577),\n",
       " tensor(0.9269094571386111),\n",
       " tensor(0.8906419327276586),\n",
       " tensor(0.9272655304380233),\n",
       " tensor(0.26662373625743485),\n",
       " tensor(0.039052722265477624),\n",
       " tensor(0.3981814097289669),\n",
       " tensor(0.018113477041598935),\n",
       " tensor(0.807149041856858),\n",
       " tensor(0.0357563394278787),\n",
       " tensor(0.5543276507962437),\n",
       " tensor(0.4568460548609654),\n",
       " tensor(0.9519290016563606),\n",
       " tensor(0.2740325110557976),\n",
       " tensor(0.8274735949200924),\n",
       " tensor(0.8595688043969141),\n",
       " tensor(0.23045493954957064),\n",
       " tensor(0.5643246125057418),\n",
       " tensor(0.22847872165932392),\n",
       " tensor(0.7249734367121684),\n",
       " tensor(0.9792485302176943),\n",
       " tensor(0.08200461240212731),\n",
       " tensor(0.1651588529753325),\n",
       " tensor(0.7893948579118861),\n",
       " tensor(0.1655428227395458),\n",
       " tensor(0.8125828004067128),\n",
       " tensor(0.25818993500500054),\n",
       " tensor(0.2620960581809837),\n",
       " tensor(0.6331646321669253),\n",
       " tensor(0.026216599892702308),\n",
       " tensor(0.6239405900083191),\n",
       " tensor(0.9389173599118373),\n",
       " tensor(0.01608118488363608),\n",
       " tensor(0.6021605645773314)]"
      ]
     },
     "execution_count": 4,
     "metadata": {},
     "output_type": "execute_result"
    }
   ],
   "source": [
    "nn.parameters()"
   ]
  },
  {
   "cell_type": "code",
   "execution_count": 5,
   "metadata": {},
   "outputs": [
    {
     "data": {
      "text/plain": [
       "41"
      ]
     },
     "execution_count": 5,
     "metadata": {},
     "output_type": "execute_result"
    }
   ],
   "source": [
    "len(nn.parameters())"
   ]
  },
  {
   "cell_type": "code",
   "execution_count": 470,
   "metadata": {},
   "outputs": [
    {
     "data": {
      "text/plain": [
       "[tensor(5.484444802905695),\n",
       " tensor(-1.436491858111654),\n",
       " tensor(1.2229393404550777),\n",
       " tensor(-1.7712923739504067),\n",
       " tensor(2.240126823704002),\n",
       " tensor(-0.11696018109053158),\n",
       " tensor(1.3361106007868675),\n",
       " tensor(-0.6273492296917964),\n",
       " tensor(-2.4198228978142478),\n",
       " tensor(0.8545214101627816),\n",
       " tensor(0.4566643976176727),\n",
       " tensor(1.7183635446343215),\n",
       " tensor(-0.5445458561845967),\n",
       " tensor(0.10980829575694756),\n",
       " tensor(0.219902615240272),\n",
       " tensor(0.7753513772082665),\n",
       " tensor(0.6928793687281641),\n",
       " tensor(0.6152929991181239),\n",
       " tensor(-0.2898992389391686),\n",
       " tensor(0.04974667771848042),\n",
       " tensor(-0.40877438713046393),\n",
       " tensor(-0.13209477979615294),\n",
       " tensor(0.13512308491175565),\n",
       " tensor(1.0680815041596448),\n",
       " tensor(0.6660621203456785),\n",
       " tensor(1.2185746167789964),\n",
       " tensor(1.2220387459089073),\n",
       " tensor(0.5166150557711846),\n",
       " tensor(-0.30421693756265045),\n",
       " tensor(0.06576362089523842),\n",
       " tensor(-0.37473384385205727),\n",
       " tensor(1.0748797753404324),\n",
       " tensor(0.11347546938028358),\n",
       " tensor(0.5851815970774711),\n",
       " tensor(0.2816090268653469),\n",
       " tensor(0.13856251664357785),\n",
       " tensor(0.9006826372646186),\n",
       " tensor(-0.866105805186317),\n",
       " tensor(1.1258093808700873),\n",
       " tensor(0.4745488191222505),\n",
       " tensor(-0.49757340914554893)]"
      ]
     },
     "execution_count": 470,
     "metadata": {},
     "output_type": "execute_result"
    }
   ],
   "source": [
    "nn.parameters()"
   ]
  },
  {
   "cell_type": "code",
   "execution_count": 10,
   "metadata": {},
   "outputs": [
    {
     "data": {
      "text/plain": [
       "3.334471304055083"
      ]
     },
     "execution_count": 10,
     "metadata": {},
     "output_type": "execute_result"
    }
   ],
   "source": [
    "(\n",
    "    (1 * 0.5852710958610633 + 2 * 0.6781303523312047 + 3 * 0.40034283819762506)\n",
    "    * 0.6995435519855825\n",
    "    + (1 * 0.7146272948639855 + 2 * 0.5480047984103927 + 3 * 0.2490988051906703)\n",
    "    * 0.44415290096365734\n",
    ")"
   ]
  },
  {
   "cell_type": "code",
   "execution_count": 6,
   "metadata": {},
   "outputs": [
    {
     "name": "stdout",
     "output_type": "stream",
     "text": [
      "[tensor(8.911500724243059)]\n"
     ]
    }
   ],
   "source": [
    "a = nn([ml.Tensor(i) for i in [1, 2, 3]])\n",
    "print(a)"
   ]
  },
  {
   "cell_type": "code",
   "execution_count": 6,
   "metadata": {},
   "outputs": [
    {
     "data": {
      "text/plain": [
       "tensor(9.428227052350968)"
      ]
     },
     "execution_count": 6,
     "metadata": {},
     "output_type": "execute_result"
    }
   ],
   "source": [
    "nn([2.0, 3.0, -1.0])"
   ]
  },
  {
   "cell_type": "code",
   "execution_count": 466,
   "metadata": {},
   "outputs": [
    {
     "data": {
      "text/plain": [
       "[tensor(0.9999927831946659),\n",
       " tensor(-0.9999865902161917),\n",
       " tensor(-0.9999785018021642),\n",
       " tensor(0.9999754336890462)]"
      ]
     },
     "execution_count": 466,
     "metadata": {},
     "output_type": "execute_result"
    }
   ],
   "source": [
    "xs = [[2.0, 5.0, -1.0], [2.0, 3.0, -4.0], [0.5, 1.0, 1.0], [1.0, 1.0, -1.0]]\n",
    "ys = [1.0, -1.0, -1.0, 1.0]\n",
    "\n",
    "ypred = [nn(x) for x in xs]\n",
    "ypred"
   ]
  },
  {
   "cell_type": "code",
   "execution_count": 139,
   "metadata": {},
   "outputs": [
    {
     "name": "stdout",
     "output_type": "stream",
     "text": [
      "1.0\n",
      "1.0\n"
     ]
    }
   ],
   "source": [
    "for i in loss._prev:\n",
    "    print(i.grad)"
   ]
  },
  {
   "cell_type": "code",
   "execution_count": 465,
   "metadata": {},
   "outputs": [
    {
     "data": {
      "text/plain": [
       "tensor(1.2975807250822883e-09)"
      ]
     },
     "execution_count": 465,
     "metadata": {},
     "output_type": "execute_result"
    }
   ],
   "source": [
    "ypred = [nn(x) for x in xs]\n",
    "ypred\n",
    "loss = sum((yg - yp) ** 2 for yg, yp in zip(ys, ypred))\n",
    "loss"
   ]
  },
  {
   "cell_type": "code",
   "execution_count": 419,
   "metadata": {},
   "outputs": [],
   "source": [
    "nn.zero_grad()"
   ]
  },
  {
   "cell_type": "code",
   "execution_count": 420,
   "metadata": {},
   "outputs": [],
   "source": [
    "loss.backward()"
   ]
  },
  {
   "cell_type": "code",
   "execution_count": 421,
   "metadata": {},
   "outputs": [],
   "source": [
    "for parameter in nn.parameters():\n",
    "    parameter.data += -0.001 * parameter.grad"
   ]
  },
  {
   "cell_type": "code",
   "execution_count": 464,
   "metadata": {},
   "outputs": [],
   "source": [
    "for _ in range(1000):\n",
    "    # forward propagation\n",
    "    ypred = [nn(x) for x in xs]\n",
    "    loss = sum((yg - yp) ** 2 for yg, yp in zip(ys, ypred))\n",
    "    # backward propagation\n",
    "    nn.zero_grad()\n",
    "    loss.backward()\n",
    "    # gradient descent\n",
    "    for parameter in nn.parameters():\n",
    "        parameter.data += -0.001 * parameter.grad"
   ]
  },
  {
   "cell_type": "code",
   "execution_count": 346,
   "metadata": {},
   "outputs": [
    {
     "data": {
      "text/plain": [
       "tensor(0.7610612369354476)"
      ]
     },
     "execution_count": 346,
     "metadata": {},
     "output_type": "execute_result"
    }
   ],
   "source": [
    "nn.layer3.neurons[0].weights[0]"
   ]
  },
  {
   "cell_type": "code",
   "execution_count": 347,
   "metadata": {},
   "outputs": [
    {
     "data": {
      "text/plain": [
       "185.3270252234538"
      ]
     },
     "execution_count": 347,
     "metadata": {},
     "output_type": "execute_result"
    }
   ],
   "source": [
    "nn.layer3.neurons[0].weights[0].grad"
   ]
  },
  {
   "cell_type": "code",
   "execution_count": 7,
   "metadata": {},
   "outputs": [],
   "source": [
    "import torch\n",
    "\n",
    "x = torch.nn.Linear(3,2, bias=False)"
   ]
  },
  {
   "cell_type": "code",
   "execution_count": 8,
   "metadata": {},
   "outputs": [
    {
     "data": {
      "text/plain": [
       "1"
      ]
     },
     "execution_count": 8,
     "metadata": {},
     "output_type": "execute_result"
    }
   ],
   "source": [
    "len(list(x.parameters()))"
   ]
  },
  {
   "cell_type": "code",
   "execution_count": 14,
   "metadata": {},
   "outputs": [
    {
     "data": {
      "text/plain": [
       "[Parameter containing:\n",
       " tensor([[-0.1338,  0.4814,  0.2520],\n",
       "         [ 0.0121,  0.3811, -0.1008]], requires_grad=True)]"
      ]
     },
     "execution_count": 14,
     "metadata": {},
     "output_type": "execute_result"
    }
   ],
   "source": [
    "list(x.parameters())"
   ]
  },
  {
   "cell_type": "code",
   "execution_count": null,
   "metadata": {},
   "outputs": [],
   "source": []
  }
 ],
 "metadata": {
  "kernelspec": {
   "display_name": "Python 3",
   "language": "python",
   "name": "python3"
  },
  "language_info": {
   "codemirror_mode": {
    "name": "ipython",
    "version": 3
   },
   "file_extension": ".py",
   "mimetype": "text/x-python",
   "name": "python",
   "nbconvert_exporter": "python",
   "pygments_lexer": "ipython3",
   "version": "3.10.10"
  }
 },
 "nbformat": 4,
 "nbformat_minor": 2
}
