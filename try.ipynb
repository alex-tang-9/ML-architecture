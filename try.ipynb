{
 "cells": [
  {
   "cell_type": "code",
   "execution_count": 1,
   "metadata": {},
   "outputs": [],
   "source": [
    "import ml\n",
    "from ml import Base"
   ]
  },
  {
   "cell_type": "code",
   "execution_count": 2,
   "metadata": {},
   "outputs": [],
   "source": [
    "from typing import Any\n",
    "\n",
    "\n",
    "class ML(ml.Base):\n",
    "    def __init__(self):\n",
    "        super().__init__()\n",
    "        self.layer1 = super().Linear(3, 4, bias = False)\n",
    "        self.layer2 = super().Linear(4, 4, bias = False)\n",
    "        self.layer3 = super().Linear(4, 1, bias = False)\n",
    "\n",
    "    def forward(self, x):\n",
    "        x = self.layer1(x)\n",
    "        x = self.layer2(x)\n",
    "        x = self.layer3(x)\n",
    "        return x"
   ]
  },
  {
   "cell_type": "code",
   "execution_count": 3,
   "metadata": {},
   "outputs": [
    {
     "name": "stdout",
     "output_type": "stream",
     "text": [
      "[Neuron[weights = [tensor(0.5337570352650131), tensor(0.6138833454368292), tensor(0.1633095653378187)]], Neuron[weights = [tensor(0.9711513340598307), tensor(0.2714467760753053), tensor(0.21500593263626833)]], Neuron[weights = [tensor(0.8857828343368938), tensor(0.788524781228505), tensor(0.14502897665402215)]], Neuron[weights = [tensor(0.19865820041247462), tensor(0.41258211600535366), tensor(0.19043918677036287)]]]\n",
      "[Neuron[weights = [tensor(0.15153936109953747), tensor(0.44644705005557517), tensor(0.7308408300305902), tensor(0.727380812425028)]], Neuron[weights = [tensor(0.624134918495749), tensor(0.2859643244787714), tensor(0.04325118988604293), tensor(0.853665827703931)]], Neuron[weights = [tensor(0.9980142101375131), tensor(0.6718808448817595), tensor(0.5926277955756085), tensor(0.4053130583912138)]], Neuron[weights = [tensor(0.7425781900693266), tensor(0.7825189376650615), tensor(0.23488453598709103), tensor(0.3184971753062399)]]]\n",
      "[Neuron[weights = [tensor(0.42807814442743086), tensor(0.5705292930276669), tensor(0.9229971147959632), tensor(0.9679657293013334)]]]\n"
     ]
    }
   ],
   "source": [
    "nn = ML()"
   ]
  },
  {
   "cell_type": "code",
   "execution_count": 4,
   "metadata": {},
   "outputs": [
    {
     "data": {
      "text/plain": [
       "[tensor(0.5337570352650131),\n",
       " tensor(0.6138833454368292),\n",
       " tensor(0.1633095653378187),\n",
       " tensor(0.8731356361803628),\n",
       " tensor(0.9711513340598307),\n",
       " tensor(0.2714467760753053),\n",
       " tensor(0.21500593263626833),\n",
       " tensor(0.20518666646478045),\n",
       " tensor(0.8857828343368938),\n",
       " tensor(0.788524781228505),\n",
       " tensor(0.14502897665402215),\n",
       " tensor(0.12791150241396476),\n",
       " tensor(0.19865820041247462),\n",
       " tensor(0.41258211600535366),\n",
       " tensor(0.19043918677036287),\n",
       " tensor(0.636204062630607),\n",
       " tensor(0.15153936109953747),\n",
       " tensor(0.44644705005557517),\n",
       " tensor(0.7308408300305902),\n",
       " tensor(0.727380812425028),\n",
       " tensor(0.60439083836827),\n",
       " tensor(0.624134918495749),\n",
       " tensor(0.2859643244787714),\n",
       " tensor(0.04325118988604293),\n",
       " tensor(0.853665827703931),\n",
       " tensor(0.30159228921629044),\n",
       " tensor(0.9980142101375131),\n",
       " tensor(0.6718808448817595),\n",
       " tensor(0.5926277955756085),\n",
       " tensor(0.4053130583912138),\n",
       " tensor(0.8989732353649302),\n",
       " tensor(0.7425781900693266),\n",
       " tensor(0.7825189376650615),\n",
       " tensor(0.23488453598709103),\n",
       " tensor(0.3184971753062399),\n",
       " tensor(0.19660465450834597),\n",
       " tensor(0.42807814442743086),\n",
       " tensor(0.5705292930276669),\n",
       " tensor(0.9229971147959632),\n",
       " tensor(0.9679657293013334),\n",
       " tensor(0.20586014452564494)]"
      ]
     },
     "execution_count": 4,
     "metadata": {},
     "output_type": "execute_result"
    }
   ],
   "source": [
    "nn.parameters()"
   ]
  },
  {
   "cell_type": "code",
   "execution_count": 5,
   "metadata": {},
   "outputs": [
    {
     "data": {
      "text/plain": [
       "41"
      ]
     },
     "execution_count": 5,
     "metadata": {},
     "output_type": "execute_result"
    }
   ],
   "source": [
    "len(nn.parameters())"
   ]
  },
  {
   "cell_type": "code",
   "execution_count": 9,
   "metadata": {},
   "outputs": [],
   "source": [
    "nn.parameters()"
   ]
  },
  {
   "cell_type": "code",
   "execution_count": 10,
   "metadata": {},
   "outputs": [
    {
     "data": {
      "text/plain": [
       "3.334471304055083"
      ]
     },
     "execution_count": 10,
     "metadata": {},
     "output_type": "execute_result"
    }
   ],
   "source": [
    "(\n",
    "    (1 * 0.5852710958610633 + 2 * 0.6781303523312047 + 3 * 0.40034283819762506)\n",
    "    * 0.6995435519855825\n",
    "    + (1 * 0.7146272948639855 + 2 * 0.5480047984103927 + 3 * 0.2490988051906703)\n",
    "    * 0.44415290096365734\n",
    ")"
   ]
  },
  {
   "cell_type": "code",
   "execution_count": 4,
   "metadata": {},
   "outputs": [
    {
     "name": "stdout",
     "output_type": "stream",
     "text": [
      "[Tensor(data = 4.6562447469236465)]\n"
     ]
    }
   ],
   "source": [
    "a = nn([ml.Tensor(i) for i in [1, 2, 3]])\n",
    "print(a)"
   ]
  },
  {
   "cell_type": "code",
   "execution_count": 6,
   "metadata": {},
   "outputs": [
    {
     "data": {
      "text/plain": [
       "[[tensor(21.534567206232687)],\n",
       " [tensor(21.534567206232687)],\n",
       " [tensor(11.30150387763668)],\n",
       " [tensor(11.027623821345248)]]"
      ]
     },
     "execution_count": 6,
     "metadata": {},
     "output_type": "execute_result"
    }
   ],
   "source": [
    "xs = [[2.0, 3.0, -1.0], [2.0, 3.0, -1.0], [0.5, 1.0, 1.0], [1.0, 1.0, -1.0]]\n",
    "ys = [1.0, 1.0, -1.0, 1.0]\n",
    "\n",
    "ypred = [nn(x) for x in xs]\n",
    "ypred"
   ]
  },
  {
   "cell_type": "code",
   "execution_count": 10,
   "metadata": {},
   "outputs": [
    {
     "data": {
      "text/plain": [
       "Tensor(data = 4.195834224568158)"
      ]
     },
     "execution_count": 10,
     "metadata": {},
     "output_type": "execute_result"
    }
   ],
   "source": [
    "loss = sum([(yg - yp) ** 2 for yg, yp in zip(ys, ypred)]) / len(ys)\n",
    "loss"
   ]
  },
  {
   "cell_type": "code",
   "execution_count": 14,
   "metadata": {},
   "outputs": [],
   "source": [
    "loss.backward()"
   ]
  },
  {
   "cell_type": "code",
   "execution_count": 8,
   "metadata": {},
   "outputs": [
    {
     "data": {
      "text/plain": [
       "tensor(0.5337570352650131)"
      ]
     },
     "execution_count": 8,
     "metadata": {},
     "output_type": "execute_result"
    }
   ],
   "source": [
    "nn.layer1.neurons[0].weights[0]"
   ]
  },
  {
   "cell_type": "code",
   "execution_count": 9,
   "metadata": {},
   "outputs": [
    {
     "data": {
      "text/plain": [
       "0.0"
      ]
     },
     "execution_count": 9,
     "metadata": {},
     "output_type": "execute_result"
    }
   ],
   "source": [
    "nn.layer1.neurons[0].weights[0].grad"
   ]
  },
  {
   "cell_type": "code",
   "execution_count": 7,
   "metadata": {},
   "outputs": [],
   "source": [
    "import torch\n",
    "\n",
    "x = torch.nn.Linear(3,2, bias=False)"
   ]
  },
  {
   "cell_type": "code",
   "execution_count": 8,
   "metadata": {},
   "outputs": [
    {
     "data": {
      "text/plain": [
       "1"
      ]
     },
     "execution_count": 8,
     "metadata": {},
     "output_type": "execute_result"
    }
   ],
   "source": [
    "len(list(x.parameters()))"
   ]
  },
  {
   "cell_type": "code",
   "execution_count": 14,
   "metadata": {},
   "outputs": [
    {
     "data": {
      "text/plain": [
       "[Parameter containing:\n",
       " tensor([[-0.1338,  0.4814,  0.2520],\n",
       "         [ 0.0121,  0.3811, -0.1008]], requires_grad=True)]"
      ]
     },
     "execution_count": 14,
     "metadata": {},
     "output_type": "execute_result"
    }
   ],
   "source": [
    "list(x.parameters())"
   ]
  },
  {
   "cell_type": "code",
   "execution_count": null,
   "metadata": {},
   "outputs": [],
   "source": []
  }
 ],
 "metadata": {
  "kernelspec": {
   "display_name": "Python 3",
   "language": "python",
   "name": "python3"
  },
  "language_info": {
   "codemirror_mode": {
    "name": "ipython",
    "version": 3
   },
   "file_extension": ".py",
   "mimetype": "text/x-python",
   "name": "python",
   "nbconvert_exporter": "python",
   "pygments_lexer": "ipython3",
   "version": "3.10.11"
  }
 },
 "nbformat": 4,
 "nbformat_minor": 2
}
