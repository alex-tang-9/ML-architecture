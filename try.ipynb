{
 "cells": [
  {
   "cell_type": "code",
   "execution_count": 1,
   "metadata": {},
   "outputs": [],
   "source": [
    "import ml\n",
    "from ml import Base"
   ]
  },
  {
   "cell_type": "code",
   "execution_count": 2,
   "metadata": {},
   "outputs": [
    {
     "name": "stdout",
     "output_type": "stream",
     "text": [
      "[Neuron[weights = [tensor(0.06023183863015025), tensor(0.5803765119757824), tensor(0.12391084482051717)]], Neuron[weights = [tensor(0.8420637233161289), tensor(0.112672094283084), tensor(0.40231643458101507)]], Neuron[weights = [tensor(0.1426553738216676), tensor(0.5182407635729764), tensor(0.8777694011671341)]], Neuron[weights = [tensor(0.7951719900109955), tensor(0.23628424803214743), tensor(0.2775513025660774)]], Neuron[weights = [tensor(0.9581081098968626), tensor(0.06099676609644311), tensor(0.06139936847016725)]]]\n",
      "[Neuron[weights = [tensor(0.07714389394285892), tensor(0.5838482652744068), tensor(0.06434518274252787)]], Neuron[weights = [tensor(0.021413327622327394), tensor(0.2268822345574899), tensor(0.3276883807270128)]], Neuron[weights = [tensor(0.4900509405636355), tensor(0.21592614730157722), tensor(0.35921751984172434)]], Neuron[weights = [tensor(0.8125798867516639), tensor(0.4091347475486913), tensor(0.17109235428416403)]], Neuron[weights = [tensor(0.8528260784637886), tensor(0.7515355138280436), tensor(0.38473172403242795)]]]\n",
      "[Neuron[weights = [tensor(0.5966910247717532), tensor(0.166387030297113), tensor(0.20113000076290144)]], Neuron[weights = [tensor(0.06652076346031666), tensor(0.44069446810453605), tensor(0.8080747787026313)]], Neuron[weights = [tensor(0.7789160422931736), tensor(0.9907363088249366), tensor(0.5630434777642122)]], Neuron[weights = [tensor(0.37597573483722724), tensor(0.7752492151091795), tensor(0.34406280810809886)]], Neuron[weights = [tensor(0.6932159239083175), tensor(0.276273134851579), tensor(0.9212320101647838)]]]\n",
      "[Neuron[weights = [tensor(0.06410121302209704), tensor(0.53784705269503), tensor(0.38790038870902455)]], Neuron[weights = [tensor(0.011332642368505952), tensor(0.3357299042630898), tensor(0.6957289805364573)]], Neuron[weights = [tensor(0.08932359949005553), tensor(0.7938661164604154), tensor(0.654739226036565)]], Neuron[weights = [tensor(0.1377259779112633), tensor(0.4270086816634905), tensor(0.43418336576133876)]], Neuron[weights = [tensor(0.3951264322533379), tensor(0.2876777623339605), tensor(0.5964347368397037)]]]\n",
      "[Neuron[weights = [tensor(0.03515186918000168), tensor(0.7293676989625523), tensor(0.46577418988415953)]], Neuron[weights = [tensor(0.8985372465496128), tensor(0.6704322191502144), tensor(0.592900843818595)]], Neuron[weights = [tensor(0.3285964036694696), tensor(0.9907302280983199), tensor(0.14601448710751652)]], Neuron[weights = [tensor(0.7829096854639954), tensor(0.12770037079174434), tensor(0.8541505144547755)]], Neuron[weights = [tensor(0.7204902941029389), tensor(0.37089717816275625), tensor(0.33615901358711064)]]]\n",
      "[Neuron[weights = [tensor(0.36985527962793596), tensor(0.11125235574888515), tensor(0.8367614633549529)]], Neuron[weights = [tensor(0.39938726367977606), tensor(0.245719979847978), tensor(0.703400232215867)]], Neuron[weights = [tensor(0.09057723398185857), tensor(0.7986408764747531), tensor(0.5055916486657762)]], Neuron[weights = [tensor(0.09189702381661846), tensor(0.7316941448018908), tensor(0.8643255954245722)]], Neuron[weights = [tensor(0.02276591959541885), tensor(0.8615068802054031), tensor(0.36410673758904444)]]]\n",
      "[Neuron[weights = [tensor(0.5594872872017869), tensor(0.21905170149026043), tensor(0.7600254070312756)]], Neuron[weights = [tensor(0.48123690936749575), tensor(0.1583411700009184), tensor(0.7299344554204255)]], Neuron[weights = [tensor(0.8669518992939677), tensor(0.734950466341294), tensor(0.7815517464330232)]], Neuron[weights = [tensor(0.19449987113856892), tensor(0.5244546472302986), tensor(0.6031436371930836)]], Neuron[weights = [tensor(0.7626476420964208), tensor(0.2191619058084019), tensor(0.33277762100449215)]]]\n",
      "[Neuron[weights = [tensor(0.8115499095056949), tensor(0.8404520215542242), tensor(0.6307184264057891)]], Neuron[weights = [tensor(0.6888612586929886), tensor(0.5397004678757101), tensor(0.9423479097375626)]], Neuron[weights = [tensor(0.16326156120887614), tensor(0.31184932426518086), tensor(0.9995226760739837)]], Neuron[weights = [tensor(0.12525964655507482), tensor(0.808967786254481), tensor(0.5569358530983455)]], Neuron[weights = [tensor(0.29641484715424626), tensor(0.6132751326770145), tensor(0.8496517778215084)]]]\n",
      "[Neuron[weights = [tensor(0.14902146761153434), tensor(0.3484797367842074), tensor(0.8582148721027953)]], Neuron[weights = [tensor(0.18096113580481643), tensor(0.7319366675241078), tensor(0.24314197791631909)]], Neuron[weights = [tensor(0.2358605026593812), tensor(0.10224718025459123), tensor(0.36274607807286396)]], Neuron[weights = [tensor(0.6009322232901767), tensor(0.7781166597364781), tensor(0.8007499946550285)]], Neuron[weights = [tensor(0.4611284099851246), tensor(0.7525588689276115), tensor(0.33457039477442574)]]]\n"
     ]
    }
   ],
   "source": [
    "a = ml.Conv2d(3,5,3)"
   ]
  },
  {
   "cell_type": "code",
   "execution_count": 3,
   "metadata": {},
   "outputs": [],
   "source": [
    "a = ml.Tensor([[[3,4,1],[6,7,5],[9,4,2]]])"
   ]
  },
  {
   "cell_type": "code",
   "execution_count": 4,
   "metadata": {},
   "outputs": [
    {
     "name": "stdout",
     "output_type": "stream",
     "text": [
      "[1, 3, 3]\n"
     ]
    }
   ],
   "source": [
    "print(a.shape)"
   ]
  },
  {
   "cell_type": "code",
   "execution_count": 5,
   "metadata": {},
   "outputs": [
    {
     "name": "stdout",
     "output_type": "stream",
     "text": [
      "[Neuron[weights = [tensor(0.7637685560534376)]], Neuron[weights = [tensor(0.06843865354674716)]], Neuron[weights = [tensor(0.41677226609053286)]]]\n",
      "[Neuron[weights = [tensor(0.2722612669998846)]], Neuron[weights = [tensor(0.9472328319584717)]], Neuron[weights = [tensor(0.2497754153092283)]]]\n",
      "[Neuron[weights = [tensor(0.962401763507914)]], Neuron[weights = [tensor(0.1980097529178968)]], Neuron[weights = [tensor(0.7574230809474386)]]]\n",
      "[Neuron[weights = [tensor(0.8886944081513554)]], Neuron[weights = [tensor(0.7740658709531709)]], Neuron[weights = [tensor(0.13666773221265538)]]]\n"
     ]
    }
   ],
   "source": [
    "c = ml.Conv2d(1,3,2)"
   ]
  },
  {
   "cell_type": "code",
   "execution_count": 8,
   "metadata": {},
   "outputs": [
    {
     "data": {
      "text/plain": [
       "2"
      ]
     },
     "execution_count": 8,
     "metadata": {},
     "output_type": "execute_result"
    }
   ],
   "source": [
    "len(c.kernel)"
   ]
  },
  {
   "cell_type": "code",
   "execution_count": 6,
   "metadata": {},
   "outputs": [
    {
     "name": "stdout",
     "output_type": "stream",
     "text": [
      "[[tensor(3), tensor(4)], [tensor(6), tensor(7)]]\n",
      "[[tensor(4), tensor(1)], [tensor(7), tensor(5)]]\n",
      "[[tensor(6), tensor(7)], [tensor(9), tensor(4)]]\n",
      "[[tensor(7), tensor(5)], [tensor(4), tensor(2)]]\n"
     ]
    }
   ],
   "source": [
    "c(a)"
   ]
  },
  {
   "cell_type": "code",
   "execution_count": 7,
   "metadata": {},
   "outputs": [],
   "source": [
    "b = ml.Tensor([[1,2,3], [2,4,6]])"
   ]
  },
  {
   "cell_type": "code",
   "execution_count": 5,
   "metadata": {},
   "outputs": [
    {
     "data": {
      "text/plain": [
       "[[tensor(2), tensor(4), tensor(6)], [tensor(4), tensor(8), tensor(12)]]"
      ]
     },
     "execution_count": 5,
     "metadata": {},
     "output_type": "execute_result"
    }
   ],
   "source": [
    "a+b"
   ]
  },
  {
   "cell_type": "code",
   "execution_count": 338,
   "metadata": {},
   "outputs": [],
   "source": [
    "from typing import Any\n",
    "\n",
    "\n",
    "class ML(ml.Base):\n",
    "    def __init__(self):\n",
    "        super().__init__()\n",
    "        self.layer1 = super().Linear(3, 4, bias = True)\n",
    "        self.layer2 = super().Linear(4, 4, bias = True)\n",
    "        self.layer3 = super().Linear(4, 1, bias = True)\n",
    "\n",
    "    def forward(self, x):\n",
    "        x = self.layer1(x)\n",
    "        x = self.layer2(x)\n",
    "        x = self.layer3(x)\n",
    "        return x"
   ]
  },
  {
   "cell_type": "code",
   "execution_count": 339,
   "metadata": {},
   "outputs": [
    {
     "name": "stdout",
     "output_type": "stream",
     "text": [
      "[Neuron[weights = [tensor(0.5057231496067542), tensor(0.1216620088947794), tensor(0.37413267254290294)]], Neuron[weights = [tensor(0.32274828514938425), tensor(0.8242014036232774), tensor(0.8310820104059486)]], Neuron[weights = [tensor(0.18169951137056684), tensor(0.39658079312356365), tensor(0.8737790380516185)]], Neuron[weights = [tensor(0.3780109672714609), tensor(0.547539809007406), tensor(0.0764630992246228)]]]\n",
      "[Neuron[weights = [tensor(0.18073417133545522), tensor(0.46411297286209063), tensor(0.15358891131025876), tensor(0.34202137547631695)]], Neuron[weights = [tensor(0.2042789071156733), tensor(0.39125433082371397), tensor(0.8837624882834365), tensor(0.6601226864038646)]], Neuron[weights = [tensor(0.8456079386695624), tensor(0.4704264165711104), tensor(0.03540277139736492), tensor(0.3120261318332975)]], Neuron[weights = [tensor(0.8612030616056859), tensor(0.127827189279494), tensor(0.8479855200291866), tensor(0.4916699578716818)]]]\n",
      "[Neuron[weights = [tensor(0.9463882621589014), tensor(0.0515820376295707), tensor(0.8081807918183777), tensor(0.7711886457390634)]]]\n"
     ]
    }
   ],
   "source": [
    "nn = ML()"
   ]
  },
  {
   "cell_type": "code",
   "execution_count": 4,
   "metadata": {},
   "outputs": [
    {
     "data": {
      "text/plain": [
       "[tensor(0.7778737336548615),\n",
       " tensor(0.43618495382987177),\n",
       " tensor(0.7291986161810051),\n",
       " tensor(0.8325688981468586),\n",
       " tensor(0.33798180970577896),\n",
       " tensor(0.252110256648856),\n",
       " tensor(0.3224846061237012),\n",
       " tensor(0.4680669064084577),\n",
       " tensor(0.9269094571386111),\n",
       " tensor(0.8906419327276586),\n",
       " tensor(0.9272655304380233),\n",
       " tensor(0.26662373625743485),\n",
       " tensor(0.039052722265477624),\n",
       " tensor(0.3981814097289669),\n",
       " tensor(0.018113477041598935),\n",
       " tensor(0.807149041856858),\n",
       " tensor(0.0357563394278787),\n",
       " tensor(0.5543276507962437),\n",
       " tensor(0.4568460548609654),\n",
       " tensor(0.9519290016563606),\n",
       " tensor(0.2740325110557976),\n",
       " tensor(0.8274735949200924),\n",
       " tensor(0.8595688043969141),\n",
       " tensor(0.23045493954957064),\n",
       " tensor(0.5643246125057418),\n",
       " tensor(0.22847872165932392),\n",
       " tensor(0.7249734367121684),\n",
       " tensor(0.9792485302176943),\n",
       " tensor(0.08200461240212731),\n",
       " tensor(0.1651588529753325),\n",
       " tensor(0.7893948579118861),\n",
       " tensor(0.1655428227395458),\n",
       " tensor(0.8125828004067128),\n",
       " tensor(0.25818993500500054),\n",
       " tensor(0.2620960581809837),\n",
       " tensor(0.6331646321669253),\n",
       " tensor(0.026216599892702308),\n",
       " tensor(0.6239405900083191),\n",
       " tensor(0.9389173599118373),\n",
       " tensor(0.01608118488363608),\n",
       " tensor(0.6021605645773314)]"
      ]
     },
     "execution_count": 4,
     "metadata": {},
     "output_type": "execute_result"
    }
   ],
   "source": [
    "nn.parameters()"
   ]
  },
  {
   "cell_type": "code",
   "execution_count": 5,
   "metadata": {},
   "outputs": [
    {
     "data": {
      "text/plain": [
       "41"
      ]
     },
     "execution_count": 5,
     "metadata": {},
     "output_type": "execute_result"
    }
   ],
   "source": [
    "len(nn.parameters())"
   ]
  },
  {
   "cell_type": "code",
   "execution_count": 470,
   "metadata": {},
   "outputs": [
    {
     "data": {
      "text/plain": [
       "[tensor(5.484444802905695),\n",
       " tensor(-1.436491858111654),\n",
       " tensor(1.2229393404550777),\n",
       " tensor(-1.7712923739504067),\n",
       " tensor(2.240126823704002),\n",
       " tensor(-0.11696018109053158),\n",
       " tensor(1.3361106007868675),\n",
       " tensor(-0.6273492296917964),\n",
       " tensor(-2.4198228978142478),\n",
       " tensor(0.8545214101627816),\n",
       " tensor(0.4566643976176727),\n",
       " tensor(1.7183635446343215),\n",
       " tensor(-0.5445458561845967),\n",
       " tensor(0.10980829575694756),\n",
       " tensor(0.219902615240272),\n",
       " tensor(0.7753513772082665),\n",
       " tensor(0.6928793687281641),\n",
       " tensor(0.6152929991181239),\n",
       " tensor(-0.2898992389391686),\n",
       " tensor(0.04974667771848042),\n",
       " tensor(-0.40877438713046393),\n",
       " tensor(-0.13209477979615294),\n",
       " tensor(0.13512308491175565),\n",
       " tensor(1.0680815041596448),\n",
       " tensor(0.6660621203456785),\n",
       " tensor(1.2185746167789964),\n",
       " tensor(1.2220387459089073),\n",
       " tensor(0.5166150557711846),\n",
       " tensor(-0.30421693756265045),\n",
       " tensor(0.06576362089523842),\n",
       " tensor(-0.37473384385205727),\n",
       " tensor(1.0748797753404324),\n",
       " tensor(0.11347546938028358),\n",
       " tensor(0.5851815970774711),\n",
       " tensor(0.2816090268653469),\n",
       " tensor(0.13856251664357785),\n",
       " tensor(0.9006826372646186),\n",
       " tensor(-0.866105805186317),\n",
       " tensor(1.1258093808700873),\n",
       " tensor(0.4745488191222505),\n",
       " tensor(-0.49757340914554893)]"
      ]
     },
     "execution_count": 470,
     "metadata": {},
     "output_type": "execute_result"
    }
   ],
   "source": [
    "nn.parameters()"
   ]
  },
  {
   "cell_type": "code",
   "execution_count": 10,
   "metadata": {},
   "outputs": [
    {
     "data": {
      "text/plain": [
       "3.334471304055083"
      ]
     },
     "execution_count": 10,
     "metadata": {},
     "output_type": "execute_result"
    }
   ],
   "source": [
    "(\n",
    "    (1 * 0.5852710958610633 + 2 * 0.6781303523312047 + 3 * 0.40034283819762506)\n",
    "    * 0.6995435519855825\n",
    "    + (1 * 0.7146272948639855 + 2 * 0.5480047984103927 + 3 * 0.2490988051906703)\n",
    "    * 0.44415290096365734\n",
    ")"
   ]
  },
  {
   "cell_type": "code",
   "execution_count": 6,
   "metadata": {},
   "outputs": [
    {
     "name": "stdout",
     "output_type": "stream",
     "text": [
      "[tensor(8.911500724243059)]\n"
     ]
    }
   ],
   "source": [
    "a = nn([ml.Tensor(i) for i in [1, 2, 3]])\n",
    "print(a)"
   ]
  },
  {
   "cell_type": "code",
   "execution_count": 6,
   "metadata": {},
   "outputs": [
    {
     "data": {
      "text/plain": [
       "tensor(9.428227052350968)"
      ]
     },
     "execution_count": 6,
     "metadata": {},
     "output_type": "execute_result"
    }
   ],
   "source": [
    "nn([2.0, 3.0, -1.0])"
   ]
  },
  {
   "cell_type": "code",
   "execution_count": 1,
   "metadata": {},
   "outputs": [
    {
     "ename": "NameError",
     "evalue": "name 'nn' is not defined",
     "output_type": "error",
     "traceback": [
      "\u001b[1;31m---------------------------------------------------------------------------\u001b[0m",
      "\u001b[1;31mNameError\u001b[0m                                 Traceback (most recent call last)",
      "\u001b[1;32m~\\AppData\\Local\\Temp\\ipykernel_26932\\3913363298.py\u001b[0m in \u001b[0;36m<cell line: 4>\u001b[1;34m()\u001b[0m\n\u001b[0;32m      2\u001b[0m \u001b[0mys\u001b[0m \u001b[1;33m=\u001b[0m \u001b[1;33m[\u001b[0m\u001b[1;36m1.0\u001b[0m\u001b[1;33m,\u001b[0m \u001b[1;33m-\u001b[0m\u001b[1;36m1.0\u001b[0m\u001b[1;33m,\u001b[0m \u001b[1;33m-\u001b[0m\u001b[1;36m1.0\u001b[0m\u001b[1;33m,\u001b[0m \u001b[1;36m1.0\u001b[0m\u001b[1;33m]\u001b[0m\u001b[1;33m\u001b[0m\u001b[1;33m\u001b[0m\u001b[0m\n\u001b[0;32m      3\u001b[0m \u001b[1;33m\u001b[0m\u001b[0m\n\u001b[1;32m----> 4\u001b[1;33m \u001b[0mypred\u001b[0m \u001b[1;33m=\u001b[0m \u001b[1;33m[\u001b[0m\u001b[0mnn\u001b[0m\u001b[1;33m(\u001b[0m\u001b[0mx\u001b[0m\u001b[1;33m)\u001b[0m \u001b[1;32mfor\u001b[0m \u001b[0mx\u001b[0m \u001b[1;32min\u001b[0m \u001b[0mxs\u001b[0m\u001b[1;33m]\u001b[0m\u001b[1;33m\u001b[0m\u001b[1;33m\u001b[0m\u001b[0m\n\u001b[0m\u001b[0;32m      5\u001b[0m \u001b[0mypred\u001b[0m\u001b[1;33m\u001b[0m\u001b[1;33m\u001b[0m\u001b[0m\n",
      "\u001b[1;32m~\\AppData\\Local\\Temp\\ipykernel_26932\\3913363298.py\u001b[0m in \u001b[0;36m<listcomp>\u001b[1;34m(.0)\u001b[0m\n\u001b[0;32m      2\u001b[0m \u001b[0mys\u001b[0m \u001b[1;33m=\u001b[0m \u001b[1;33m[\u001b[0m\u001b[1;36m1.0\u001b[0m\u001b[1;33m,\u001b[0m \u001b[1;33m-\u001b[0m\u001b[1;36m1.0\u001b[0m\u001b[1;33m,\u001b[0m \u001b[1;33m-\u001b[0m\u001b[1;36m1.0\u001b[0m\u001b[1;33m,\u001b[0m \u001b[1;36m1.0\u001b[0m\u001b[1;33m]\u001b[0m\u001b[1;33m\u001b[0m\u001b[1;33m\u001b[0m\u001b[0m\n\u001b[0;32m      3\u001b[0m \u001b[1;33m\u001b[0m\u001b[0m\n\u001b[1;32m----> 4\u001b[1;33m \u001b[0mypred\u001b[0m \u001b[1;33m=\u001b[0m \u001b[1;33m[\u001b[0m\u001b[0mnn\u001b[0m\u001b[1;33m(\u001b[0m\u001b[0mx\u001b[0m\u001b[1;33m)\u001b[0m \u001b[1;32mfor\u001b[0m \u001b[0mx\u001b[0m \u001b[1;32min\u001b[0m \u001b[0mxs\u001b[0m\u001b[1;33m]\u001b[0m\u001b[1;33m\u001b[0m\u001b[1;33m\u001b[0m\u001b[0m\n\u001b[0m\u001b[0;32m      5\u001b[0m \u001b[0mypred\u001b[0m\u001b[1;33m\u001b[0m\u001b[1;33m\u001b[0m\u001b[0m\n",
      "\u001b[1;31mNameError\u001b[0m: name 'nn' is not defined"
     ]
    }
   ],
   "source": [
    "xs = [[2.0, 5.0, -1.0], [2.0, 3.0, -4.0], [0.5, 1.0, 1.0], [1.0, 1.0, -1.0]]\n",
    "ys = [1.0, -1.0, -1.0, 1.0]\n",
    "\n",
    "ypred = [nn(x) for x in xs]\n",
    "ypred"
   ]
  },
  {
   "cell_type": "code",
   "execution_count": 2,
   "metadata": {},
   "outputs": [],
   "source": [
    "import numpy as np\n",
    "a = np.array(1)"
   ]
  },
  {
   "cell_type": "code",
   "execution_count": 465,
   "metadata": {},
   "outputs": [
    {
     "data": {
      "text/plain": [
       "tensor(1.2975807250822883e-09)"
      ]
     },
     "execution_count": 465,
     "metadata": {},
     "output_type": "execute_result"
    }
   ],
   "source": [
    "ypred = [nn(x) for x in xs]\n",
    "ypred\n",
    "loss = sum((yg - yp) ** 2 for yg, yp in zip(ys, ypred))\n",
    "loss"
   ]
  },
  {
   "cell_type": "code",
   "execution_count": 419,
   "metadata": {},
   "outputs": [],
   "source": [
    "nn.zero_grad()"
   ]
  },
  {
   "cell_type": "code",
   "execution_count": 420,
   "metadata": {},
   "outputs": [],
   "source": [
    "loss.backward()"
   ]
  },
  {
   "cell_type": "code",
   "execution_count": 421,
   "metadata": {},
   "outputs": [],
   "source": [
    "for parameter in nn.parameters():\n",
    "    parameter.data += -0.001 * parameter.grad"
   ]
  },
  {
   "cell_type": "code",
   "execution_count": 464,
   "metadata": {},
   "outputs": [],
   "source": [
    "for _ in range(1000):\n",
    "    # forward propagation\n",
    "    ypred = [nn(x) for x in xs]\n",
    "    loss = sum((yg - yp) ** 2 for yg, yp in zip(ys, ypred))\n",
    "    # backward propagation\n",
    "    nn.zero_grad()\n",
    "    loss.backward()\n",
    "    # gradient descent\n",
    "    for parameter in nn.parameters():\n",
    "        parameter.data += -0.001 * parameter.grad"
   ]
  },
  {
   "cell_type": "code",
   "execution_count": 346,
   "metadata": {},
   "outputs": [
    {
     "data": {
      "text/plain": [
       "tensor(0.7610612369354476)"
      ]
     },
     "execution_count": 346,
     "metadata": {},
     "output_type": "execute_result"
    }
   ],
   "source": [
    "nn.layer3.neurons[0].weights[0]"
   ]
  },
  {
   "cell_type": "code",
   "execution_count": 347,
   "metadata": {},
   "outputs": [
    {
     "data": {
      "text/plain": [
       "185.3270252234538"
      ]
     },
     "execution_count": 347,
     "metadata": {},
     "output_type": "execute_result"
    }
   ],
   "source": [
    "nn.layer3.neurons[0].weights[0].grad"
   ]
  },
  {
   "cell_type": "code",
   "execution_count": 7,
   "metadata": {},
   "outputs": [],
   "source": [
    "import torch\n",
    "\n",
    "x = torch.nn.Linear(3,2, bias=False)"
   ]
  },
  {
   "cell_type": "code",
   "execution_count": 8,
   "metadata": {},
   "outputs": [
    {
     "data": {
      "text/plain": [
       "1"
      ]
     },
     "execution_count": 8,
     "metadata": {},
     "output_type": "execute_result"
    }
   ],
   "source": [
    "len(list(x.parameters()))"
   ]
  },
  {
   "cell_type": "code",
   "execution_count": 14,
   "metadata": {},
   "outputs": [
    {
     "data": {
      "text/plain": [
       "[Parameter containing:\n",
       " tensor([[-0.1338,  0.4814,  0.2520],\n",
       "         [ 0.0121,  0.3811, -0.1008]], requires_grad=True)]"
      ]
     },
     "execution_count": 14,
     "metadata": {},
     "output_type": "execute_result"
    }
   ],
   "source": [
    "list(x.parameters())"
   ]
  },
  {
   "cell_type": "code",
   "execution_count": null,
   "metadata": {},
   "outputs": [],
   "source": []
  }
 ],
 "metadata": {
  "kernelspec": {
   "display_name": "Python 3",
   "language": "python",
   "name": "python3"
  },
  "language_info": {
   "codemirror_mode": {
    "name": "ipython",
    "version": 3
   },
   "file_extension": ".py",
   "mimetype": "text/x-python",
   "name": "python",
   "nbconvert_exporter": "python",
   "pygments_lexer": "ipython3",
   "version": "3.10.10"
  }
 },
 "nbformat": 4,
 "nbformat_minor": 2
}
