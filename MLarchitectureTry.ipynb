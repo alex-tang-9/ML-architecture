{
 "cells": [
  {
   "cell_type": "code",
   "execution_count": 127,
   "metadata": {},
   "outputs": [],
   "source": [
    "import math\n",
    "\n",
    "\n",
    "class tensor:\n",
    "    def __init__(self, data, _children=(), _op=\"\"):\n",
    "        self.data = data\n",
    "        self._prev = set(_children)\n",
    "        self._backward = lambda: None\n",
    "        self._op = _op\n",
    "        self.grad = 0.0\n",
    "\n",
    "    def __repr__(self):\n",
    "        return f\"Tensor[data = {self.data}]\"\n",
    "\n",
    "    def __add__(self, other):\n",
    "        if isinstance(other, tensor) == False:\n",
    "            other = tensor(other)\n",
    "        out = tensor(self.data + other.data, (self, other), \"+\")\n",
    "\n",
    "        def _backward():\n",
    "            self.grad = 1.0 * out.grad\n",
    "            other.grad = 1.0 * out.grad\n",
    "\n",
    "        out._backward = _backward\n",
    "        return out\n",
    "\n",
    "    def __mul__(self, other):\n",
    "        if isinstance(other, tensor) == False:\n",
    "            other = tensor(other)\n",
    "        out = tensor(self.data * other.data, (self, other), \"*\")\n",
    "\n",
    "        def _backward():\n",
    "            self.grad = other.data * out.grad\n",
    "            other.grad = self.data * out.grad\n",
    "\n",
    "        out._backward = _backward\n",
    "        return out\n",
    "\n",
    "    def __divmod__(self, other):\n",
    "        if isinstance(other, tensor) == False:\n",
    "            other = tensor(other)\n",
    "        out = tensor(self.data / other.data, (self, other), \"/\")\n",
    "        return out\n",
    "\n",
    "    def tanh(self):\n",
    "        x = self.data\n",
    "        out = (math.exp(2.0 * x) - 1) / (math.exp(2.0 * x) + 1)\n",
    "        out = tensor(out, (self,), \"tanh\")\n",
    "\n",
    "        def _backward():\n",
    "            self.grad = (1 - out.data**2) * out.grad\n",
    "\n",
    "        out._backward = _backward\n",
    "        return out"
   ]
  },
  {
   "cell_type": "code",
   "execution_count": 128,
   "metadata": {},
   "outputs": [],
   "source": [
    "a = tensor(2)\n",
    "b = tensor(4)\n",
    "c = tensor(2)\n",
    "e = tensor(-10)"
   ]
  },
  {
   "cell_type": "code",
   "execution_count": 93,
   "metadata": {},
   "outputs": [],
   "source": [
    "c.grad = 1\n",
    "e.grad = 8\n",
    "b.grad = -20\n",
    "a.grad = -40"
   ]
  },
  {
   "cell_type": "code",
   "execution_count": 66,
   "metadata": {},
   "outputs": [],
   "source": [
    "a += 0.01 * a.grad"
   ]
  },
  {
   "cell_type": "code",
   "execution_count": 145,
   "metadata": {},
   "outputs": [],
   "source": [
    "b += 0.01 * b.grad"
   ]
  },
  {
   "cell_type": "code",
   "execution_count": 146,
   "metadata": {},
   "outputs": [],
   "source": [
    "c += 0.01 * b.grad"
   ]
  },
  {
   "cell_type": "code",
   "execution_count": 147,
   "metadata": {},
   "outputs": [],
   "source": [
    "e += 0.01 * b.grad"
   ]
  },
  {
   "cell_type": "code",
   "execution_count": 130,
   "metadata": {},
   "outputs": [
    {
     "name": "stdout",
     "output_type": "stream",
     "text": [
      "Tensor[data = -1.0]\n"
     ]
    }
   ],
   "source": [
    "l = (a * b) * e + c\n",
    "# l = tensor(0.5)\n",
    "o = l.tanh()\n",
    "print(o)"
   ]
  },
  {
   "cell_type": "code",
   "execution_count": 131,
   "metadata": {},
   "outputs": [],
   "source": [
    "o.grad = 1"
   ]
  },
  {
   "cell_type": "code",
   "execution_count": 133,
   "metadata": {},
   "outputs": [],
   "source": [
    "l._backward()"
   ]
  },
  {
   "cell_type": "code",
   "execution_count": 7,
   "metadata": {},
   "outputs": [
    {
     "data": {
      "text/plain": [
       "-1.0"
      ]
     },
     "execution_count": 7,
     "metadata": {},
     "output_type": "execute_result"
    }
   ],
   "source": [
    "o.data"
   ]
  },
  {
   "cell_type": "code",
   "execution_count": null,
   "metadata": {},
   "outputs": [],
   "source": []
  },
  {
   "cell_type": "code",
   "execution_count": 64,
   "metadata": {},
   "outputs": [
    {
     "name": "stdout",
     "output_type": "stream",
     "text": [
      "-40.000000000048885\n"
     ]
    }
   ],
   "source": [
    "def tr():\n",
    "    h = 0.0001\n",
    "\n",
    "    L2 = ((a + h) * b) * e + c\n",
    "\n",
    "    L1 = (a * b) * e + c\n",
    "\n",
    "    print((L2.data - L1.data) / h)\n",
    "\n",
    "\n",
    "tr()"
   ]
  },
  {
   "cell_type": "code",
   "execution_count": null,
   "metadata": {},
   "outputs": [],
   "source": [
    "import random\n",
    "\n",
    "class nn:\n",
    "    def Linear(in_features, out_features):\n",
    "        w = [[random.random() for _ in in_features] for _ in out_features]\n",
    "        print(w)"
   ]
  }
 ],
 "metadata": {
  "kernelspec": {
   "display_name": "Python 3",
   "language": "python",
   "name": "python3"
  },
  "language_info": {
   "codemirror_mode": {
    "name": "ipython",
    "version": 3
   },
   "file_extension": ".py",
   "mimetype": "text/x-python",
   "name": "python",
   "nbconvert_exporter": "python",
   "pygments_lexer": "ipython3",
   "version": "3.10.10"
  }
 },
 "nbformat": 4,
 "nbformat_minor": 2
}
