{
 "cells": [
  {
   "cell_type": "code",
   "execution_count": 1,
   "metadata": {},
   "outputs": [],
   "source": [
    "import math\n",
    "\n",
    "\n",
    "class tensor:\n",
    "    def __init__(self, data, _children=(), _op=\"\"):\n",
    "        if (isinstance(data, list)):\n",
    "            return [tensor(i) for i in data]\n",
    "        \n",
    "        self.data = data\n",
    "        self._prev = set(_children)\n",
    "        self._backward = lambda: None\n",
    "        self._op = _op\n",
    "        self.grad = 0.0\n",
    "\n",
    "    def __repr__(self):\n",
    "        return f\"Tensor[data = {self.data}]\"\n",
    "\n",
    "    def __add__(self, other):\n",
    "        if isinstance(other, tensor) == False:\n",
    "            other = tensor(other)\n",
    "        out = tensor(self.data + other.data, (self, other), \"+\")\n",
    "\n",
    "        def _backward():\n",
    "            self.grad += 1.0 * out.grad\n",
    "            other.grad += 1.0 * out.grad\n",
    "\n",
    "        out._backward = _backward\n",
    "        return out\n",
    "\n",
    "    def __mul__(self, other):\n",
    "        if isinstance(other, tensor) == False:\n",
    "            other = tensor(other)\n",
    "        out = tensor(self.data * other.data, (self, other), \"*\")\n",
    "\n",
    "        def _backward():\n",
    "            self.grad += other.data * out.grad\n",
    "            other.grad += self.data * out.grad\n",
    "\n",
    "        out._backward = _backward\n",
    "        return out\n",
    "\n",
    "    def __pow__(self, other):\n",
    "        assert isinstance(other, (int, float))\n",
    "        out = tensor(self.data**other, (self,), f\"**{other}\")\n",
    "\n",
    "        def _backward():\n",
    "            self.grad += (other * self.data ** (other - 1)) * out.grad\n",
    "\n",
    "        out._backward = _backward\n",
    "        return out\n",
    "\n",
    "    def __neg__(self):\n",
    "        return self * -1\n",
    "\n",
    "    def __sub__(self, other):\n",
    "        return self + (-other)\n",
    "\n",
    "    def __rmul__(self, other):\n",
    "        return self * other\n",
    "\n",
    "    def __truediv__(self, other):\n",
    "        return self * other**-1\n",
    "\n",
    "    def tanh(self):\n",
    "        x = self.data\n",
    "        out = (math.exp(2.0 * x) - 1) / (math.exp(2.0 * x) + 1)\n",
    "        out = tensor(out, (self,), \"tanh\")\n",
    "\n",
    "        def _backward():\n",
    "            self.grad += (1 - out.data**2) * out.grad\n",
    "\n",
    "        out._backward = _backward\n",
    "        return out\n",
    "\n",
    "    def exp(self):\n",
    "        x = self.data\n",
    "        out = tensor(math.exp(x), (self,), \"exp\")\n",
    "\n",
    "        def _backward():\n",
    "            self.grad += out.data * out.grad\n",
    "\n",
    "        out._backward = _backward\n",
    "        return out\n",
    "\n",
    "    def backward(self):\n",
    "        self.grad = 1.0\n",
    "\n",
    "        nodes = []\n",
    "        added_nodes = set()\n",
    "\n",
    "        def get_child_nodes(v):\n",
    "            if v not in added_nodes:\n",
    "                added_nodes.add(v)\n",
    "                for child in v._prev:\n",
    "                    get_child_nodes(child)\n",
    "                nodes.append(v)\n",
    "\n",
    "        get_child_nodes(self)\n",
    "\n",
    "        for node in reversed(nodes):\n",
    "            node._backward()\n",
    "            \n",
    "    def shape():\n",
    "        return None"
   ]
  },
  {
   "cell_type": "code",
   "execution_count": 2,
   "metadata": {},
   "outputs": [],
   "source": [
    "a = tensor(2)\n",
    "b = tensor(0.25)\n",
    "c = tensor(1)\n",
    "e = tensor(-0.5)"
   ]
  },
  {
   "cell_type": "code",
   "execution_count": 3,
   "metadata": {},
   "outputs": [],
   "source": [
    "t = (a * b) * e\n",
    "l = t + c\n",
    "o = l.tanh()"
   ]
  },
  {
   "cell_type": "code",
   "execution_count": 49,
   "metadata": {},
   "outputs": [],
   "source": [
    "import torch"
   ]
  },
  {
   "cell_type": "code",
   "execution_count": 86,
   "metadata": {},
   "outputs": [],
   "source": [
    "t_a = torch.Tensor([2]).double()\n",
    "t_b = torch.Tensor([0.25]).double()\n",
    "t_c = torch.Tensor([1]).double()\n",
    "t_e = torch.Tensor([-0.5]).double()"
   ]
  },
  {
   "cell_type": "code",
   "execution_count": 87,
   "metadata": {},
   "outputs": [],
   "source": [
    "t_a.requires_grad = True\n",
    "t_b.requires_grad = True\n",
    "t_c.requires_grad = True\n",
    "t_e.requires_grad = True"
   ]
  },
  {
   "cell_type": "code",
   "execution_count": 88,
   "metadata": {},
   "outputs": [],
   "source": [
    "t_o = torch.tanh((t_a * t_b) * t_e + t_c)"
   ]
  },
  {
   "cell_type": "code",
   "execution_count": 89,
   "metadata": {},
   "outputs": [],
   "source": [
    "t_o.backward()"
   ]
  },
  {
   "cell_type": "code",
   "execution_count": 90,
   "metadata": {},
   "outputs": [
    {
     "name": "stdout",
     "output_type": "stream",
     "text": [
      "None\n",
      "tensor([0.5966], dtype=torch.float64)\n",
      "tensor([-0.0746], dtype=torch.float64)\n",
      "tensor([-0.5966], dtype=torch.float64)\n",
      "tensor([0.2983], dtype=torch.float64)\n"
     ]
    },
    {
     "name": "stderr",
     "output_type": "stream",
     "text": [
      "C:\\Users\\Administrator\\AppData\\Local\\Temp\\ipykernel_89740\\1868670993.py:1: UserWarning: The .grad attribute of a Tensor that is not a leaf Tensor is being accessed. Its .grad attribute won't be populated during autograd.backward(). If you indeed want the .grad field to be populated for a non-leaf Tensor, use .retain_grad() on the non-leaf Tensor. If you access the non-leaf Tensor by mistake, make sure you access the leaf Tensor instead. See github.com/pytorch/pytorch/pull/30531 for more informations. (Triggered internally at aten\\src\\ATen/core/TensorBody.h:494.)\n",
      "  print(t_o.grad)\n"
     ]
    }
   ],
   "source": [
    "print(t_o.grad)\n",
    "print(t_c.grad)\n",
    "print(t_a.grad)\n",
    "print(t_b.grad)\n",
    "print(t_e.grad)"
   ]
  },
  {
   "cell_type": "code",
   "execution_count": 93,
   "metadata": {},
   "outputs": [
    {
     "data": {
      "text/plain": [
       "Tensor[data = 0.6351489523872873]"
      ]
     },
     "execution_count": 93,
     "metadata": {},
     "output_type": "execute_result"
    }
   ],
   "source": [
    "o"
   ]
  },
  {
   "cell_type": "code",
   "execution_count": 94,
   "metadata": {},
   "outputs": [],
   "source": [
    "o.backward()"
   ]
  },
  {
   "cell_type": "code",
   "execution_count": 95,
   "metadata": {},
   "outputs": [
    {
     "name": "stdout",
     "output_type": "stream",
     "text": [
      "1.0\n",
      "0.5965858082813315\n",
      "0.5965858082813315\n",
      "-0.07457322603516643\n",
      "-0.5965858082813315\n",
      "0.2982929041406657\n"
     ]
    }
   ],
   "source": [
    "print(o.grad)\n",
    "print(l.grad)\n",
    "print(c.grad)\n",
    "print(a.grad)\n",
    "print(b.grad)\n",
    "print(e.grad)"
   ]
  },
  {
   "cell_type": "code",
   "execution_count": null,
   "metadata": {},
   "outputs": [],
   "source": []
  },
  {
   "cell_type": "code",
   "execution_count": null,
   "metadata": {},
   "outputs": [],
   "source": []
  },
  {
   "cell_type": "code",
   "execution_count": 64,
   "metadata": {},
   "outputs": [
    {
     "name": "stdout",
     "output_type": "stream",
     "text": [
      "-40.000000000048885\n"
     ]
    }
   ],
   "source": [
    "def tr():\n",
    "    h = 0.0001\n",
    "\n",
    "    L2 = ((a + h) * b) * e + c\n",
    "\n",
    "    L1 = (a * b) * e + c\n",
    "\n",
    "    print((L2.data - L1.data) / h)\n",
    "\n",
    "\n",
    "tr()"
   ]
  },
  {
   "cell_type": "code",
   "execution_count": null,
   "metadata": {},
   "outputs": [],
   "source": [
    "import random\n",
    "\n",
    "class nn:\n",
    "    def Linear(in_features, out_features):\n",
    "        w = [[random.random() for _ in in_features] for _ in out_features]\n",
    "        print(w)"
   ]
  }
 ],
 "metadata": {
  "kernelspec": {
   "display_name": "Python 3",
   "language": "python",
   "name": "python3"
  },
  "language_info": {
   "codemirror_mode": {
    "name": "ipython",
    "version": 3
   },
   "file_extension": ".py",
   "mimetype": "text/x-python",
   "name": "python",
   "nbconvert_exporter": "python",
   "pygments_lexer": "ipython3",
   "version": "3.10.11"
  }
 },
 "nbformat": 4,
 "nbformat_minor": 2
}
